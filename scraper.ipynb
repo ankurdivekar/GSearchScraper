{
 "cells": [
  {
   "cell_type": "code",
   "execution_count": 49,
   "metadata": {},
   "outputs": [],
   "source": [
    "from pathlib import Path\n",
    "import pandas as pd\n",
    "from bs4 import BeautifulSoup\n",
    "import requests\n"
   ]
  },
  {
   "cell_type": "code",
   "execution_count": 6,
   "metadata": {},
   "outputs": [],
   "source": [
    "data_dir = Path(\"Data\")"
   ]
  },
  {
   "cell_type": "code",
   "execution_count": 8,
   "metadata": {},
   "outputs": [
    {
     "data": {
      "text/plain": [
       "[WindowsPath('Data/1.html'),\n",
       " WindowsPath('Data/10.html'),\n",
       " WindowsPath('Data/2.html'),\n",
       " WindowsPath('Data/3.html'),\n",
       " WindowsPath('Data/4.html'),\n",
       " WindowsPath('Data/5.html'),\n",
       " WindowsPath('Data/6.html'),\n",
       " WindowsPath('Data/7.html'),\n",
       " WindowsPath('Data/8.html'),\n",
       " WindowsPath('Data/9.html')]"
      ]
     },
     "execution_count": 8,
     "metadata": {},
     "output_type": "execute_result"
    }
   ],
   "source": [
    "# Get all files in data_dir directory using pathlib iterdir() method\n",
    "files = [f for f in data_dir.iterdir() if f.is_file()]"
   ]
  },
  {
   "cell_type": "code",
   "execution_count": 92,
   "metadata": {},
   "outputs": [],
   "source": [
    "def process_linkedin_title(title):\n",
    "    \"\"\"\n",
    "    Function to process the title of a LinkedIn profile\n",
    "    \"\"\"\n",
    "    title = title.replace(\" - LinkedIn\", \"\")\n",
    "    title = title.replace(\"LinkedIn\", \"\")\n",
    "    title = title.replace(\"Professional Profile\", \"\")\n",
    "    title = title.replace(\" at \", \", \")\n",
    "    title = title.replace(\" - \", \", \")\n",
    "    title = title.replace(\" | \", \", \")\n",
    "    \n",
    "    title = title.split(\", \", 1)\n",
    "    \n",
    "    return title[0].strip(), title[1].strip() if len(title) == 2 else ''\n",
    "    "
   ]
  },
  {
   "cell_type": "code",
   "execution_count": 90,
   "metadata": {},
   "outputs": [],
   "source": [
    "def process_linkedin_url(url):\n",
    "    url = url.replace(\"?trk=public_profile_samename-profile\", \"\")\n",
    "    url = url.replace(\"?trk=people-guest_people_search-card\", \"\")\n",
    "    url = url.replace(\"?trk=public_profile_browsemap\", \"\")\n",
    "    url = url.replace(\"?trk=public_profile_browsemap_profile-result-card_result-card_full-click\", \"\")\n",
    "    return url"
   ]
  },
  {
   "cell_type": "code",
   "execution_count": 95,
   "metadata": {},
   "outputs": [],
   "source": [
    "names = []\n",
    "infos = []\n",
    "urls = []\n",
    "    \n",
    "for f in files:\n",
    "    # Parse html file using BeautifulSoup and find search results\n",
    "    # results = BeautifulSoup(f.read_text(), \"html.parser\").find_all(\"h3\", class_=\"LC20lb MBeuO DKV0Md\")\n",
    "    \n",
    "    results = BeautifulSoup(f.read_text(), \"html.parser\").find_all(\"div\", class_=\"yuRUbf\")\n",
    "    for r in results:\n",
    "        # print(r)\n",
    "        # print('_'*50)\n",
    "        profile_name = r.find(\"h3\").text\n",
    "        name, info = process_linkedin_title(profile_name)\n",
    "        # print('_'*50)\n",
    "        profile_url = r.find(\"a\", href=True)[\"href\"]\n",
    "        url = process_linkedin_url(profile_url)\n",
    "        \n",
    "        names.append(name)\n",
    "        infos.append(info)\n",
    "        urls.append(url)\n",
    "        \n",
    "profiles = pd.DataFrame({\"Name\": names, \"Info\": infos, \"URL\": urls})\n",
    "profiles.to_csv(\"LinkedIn_profiles.csv\", index=False)\n",
    "    "
   ]
  },
  {
   "cell_type": "code",
   "execution_count": 50,
   "metadata": {},
   "outputs": [
    {
     "data": {
      "text/plain": [
       "<html><head>\n",
       "<script type=\"text/javascript\">\n",
       "window.onload = function() {\n",
       "  // Parse the tracking code from cookies.\n",
       "  var trk = \"bf\";\n",
       "  var trkInfo = \"bf\";\n",
       "  var cookies = document.cookie.split(\"; \");\n",
       "  for (var i = 0; i < cookies.length; ++i) {\n",
       "    if ((cookies[i].indexOf(\"trkCode=\") == 0) && (cookies[i].length > 8)) {\n",
       "      trk = cookies[i].substring(8);\n",
       "    }\n",
       "    else if ((cookies[i].indexOf(\"trkInfo=\") == 0) && (cookies[i].length > 8)) {\n",
       "      trkInfo = cookies[i].substring(8);\n",
       "    }\n",
       "  }\n",
       "\n",
       "  if (window.location.protocol == \"http:\") {\n",
       "    // If \"sl\" cookie is set, redirect to https.\n",
       "    for (var i = 0; i < cookies.length; ++i) {\n",
       "      if ((cookies[i].indexOf(\"sl=\") == 0) && (cookies[i].length > 3)) {\n",
       "        window.location.href = \"https:\" + window.location.href.substring(window.location.protocol.length);\n",
       "        return;\n",
       "      }\n",
       "    }\n",
       "  }\n",
       "\n",
       "  // Get the new domain. For international domains such as\n",
       "  // fr.linkedin.com, we convert it to www.linkedin.com\n",
       "  // treat .cn similar to .com here\n",
       "  var domain = location.host;\n",
       "  if (domain != \"www.linkedin.com\" && domain != \"www.linkedin.cn\") {\n",
       "    var subdomainIndex = location.host.indexOf(\".linkedin\");\n",
       "    if (subdomainIndex != -1) {\n",
       "      domain = \"www\" + location.host.substring(subdomainIndex);\n",
       "    }\n",
       "  }\n",
       "\n",
       "  window.location.href = \"https://\" + domain + \"/authwall?trk=\" + trk + \"&trkInfo=\" + trkInfo +\n",
       "      \"&original_referer=\" + document.referrer.substr(0, 200) +\n",
       "      \"&sessionRedirect=\" + encodeURIComponent(window.location.href);\n",
       "}\n",
       "</script>\n",
       "</head></html>"
      ]
     },
     "execution_count": 50,
     "metadata": {},
     "output_type": "execute_result"
    }
   ],
   "source": [
    "url = \"https://in.linkedin.com/in/falak-naaz-37747420b\"\n",
    "\n",
    "# Read url using BeautifulSoup\n",
    "raw = BeautifulSoup(requests.get(url).text, \"html.parser\")\n",
    "raw"
   ]
  }
 ],
 "metadata": {
  "kernelspec": {
   "display_name": "p310_trading",
   "language": "python",
   "name": "python3"
  },
  "language_info": {
   "codemirror_mode": {
    "name": "ipython",
    "version": 3
   },
   "file_extension": ".py",
   "mimetype": "text/x-python",
   "name": "python",
   "nbconvert_exporter": "python",
   "pygments_lexer": "ipython3",
   "version": "3.10.8"
  },
  "orig_nbformat": 4,
  "vscode": {
   "interpreter": {
    "hash": "9559f4640cb640c08b90f97859235c713c272f1e9568494fb2dc7f48feaba9de"
   }
  }
 },
 "nbformat": 4,
 "nbformat_minor": 2
}
